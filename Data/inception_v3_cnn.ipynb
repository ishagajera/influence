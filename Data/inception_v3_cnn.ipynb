{
  "cells": [
    {
      "cell_type": "markdown",
      "metadata": {
        "id": "view-in-github",
        "colab_type": "text"
      },
      "source": [
        "<a href=\"https://colab.research.google.com/github/ishagajera/influence/blob/main/Data/inception_v3_cnn.ipynb\" target=\"_parent\"><img src=\"https://colab.research.google.com/assets/colab-badge.svg\" alt=\"Open In Colab\"/></a>"
      ]
    },
    {
      "cell_type": "code",
      "execution_count": null,
      "metadata": {
        "colab": {
          "base_uri": "https://localhost:8080/"
        },
        "id": "VCD9L0LN5Ige",
        "outputId": "487339f3-e60d-4dcd-9f17-7c192d4063b1"
      },
      "outputs": [
        {
          "output_type": "stream",
          "name": "stdout",
          "text": [
            "Looking in indexes: https://pypi.org/simple, https://us-python.pkg.dev/colab-wheels/public/simple/\n",
            "Collecting monk-colab\n",
            "  Downloading monk_colab-0.0.1-py3-none-any.whl (515 kB)\n",
            "\u001b[2K     \u001b[90m━━━━━━━━━━━━━━━━━━━━━━━━━━━━━━━━━━━━━━━\u001b[0m \u001b[32m515.0/515.0 KB\u001b[0m \u001b[31m8.5 MB/s\u001b[0m eta \u001b[36m0:00:00\u001b[0m\n",
            "\u001b[?25hCollecting gluoncv\n",
            "  Downloading gluoncv-0.10.5.post0-py2.py3-none-any.whl (1.3 MB)\n",
            "\u001b[2K     \u001b[90m━━━━━━━━━━━━━━━━━━━━━━━━━━━━━━━━━━━━━━━━\u001b[0m \u001b[32m1.3/1.3 MB\u001b[0m \u001b[31m20.4 MB/s\u001b[0m eta \u001b[36m0:00:00\u001b[0m\n",
            "\u001b[?25hCollecting GPUtil\n",
            "  Downloading GPUtil-1.4.0.tar.gz (5.5 kB)\n",
            "  Preparing metadata (setup.py) ... \u001b[?25l\u001b[?25hdone\n",
            "Collecting pylg\n",
            "  Downloading PyLg-1.3.3-py3-none-any.whl (27 kB)\n",
            "Collecting mxnet-cu101\n",
            "  Downloading mxnet_cu101-1.9.1-py3-none-manylinux2014_x86_64.whl (360.0 MB)\n",
            "\u001b[2K     \u001b[90m━━━━━━━━━━━━━━━━━━━━━━━━━━━━━━━━━━━━━━━\u001b[0m \u001b[32m360.0/360.0 MB\u001b[0m \u001b[31m3.2 MB/s\u001b[0m eta \u001b[36m0:00:00\u001b[0m\n",
            "\u001b[?25hRequirement already satisfied: tqdm in /usr/local/lib/python3.8/dist-packages (from gluoncv->monk-colab) (4.64.1)\n",
            "Collecting portalocker\n",
            "  Downloading portalocker-2.7.0-py2.py3-none-any.whl (15 kB)\n",
            "Requirement already satisfied: matplotlib in /usr/local/lib/python3.8/dist-packages (from gluoncv->monk-colab) (3.5.3)\n",
            "Requirement already satisfied: Pillow in /usr/local/lib/python3.8/dist-packages (from gluoncv->monk-colab) (8.4.0)\n",
            "Requirement already satisfied: scipy in /usr/local/lib/python3.8/dist-packages (from gluoncv->monk-colab) (1.10.1)\n",
            "Collecting autocfg\n",
            "  Downloading autocfg-0.0.8-py3-none-any.whl (13 kB)\n",
            "Requirement already satisfied: pyyaml in /usr/local/lib/python3.8/dist-packages (from gluoncv->monk-colab) (6.0)\n",
            "Collecting yacs\n",
            "  Downloading yacs-0.1.8-py3-none-any.whl (14 kB)\n",
            "Requirement already satisfied: requests in /usr/local/lib/python3.8/dist-packages (from gluoncv->monk-colab) (2.25.1)\n",
            "Requirement already satisfied: numpy in /usr/local/lib/python3.8/dist-packages (from gluoncv->monk-colab) (1.22.4)\n",
            "Requirement already satisfied: pandas in /usr/local/lib/python3.8/dist-packages (from gluoncv->monk-colab) (1.3.5)\n",
            "Requirement already satisfied: opencv-python in /usr/local/lib/python3.8/dist-packages (from gluoncv->monk-colab) (4.6.0.66)\n",
            "Collecting graphviz<0.9.0,>=0.8.1\n",
            "  Downloading graphviz-0.8.4-py2.py3-none-any.whl (16 kB)\n",
            "Requirement already satisfied: urllib3<1.27,>=1.21.1 in /usr/local/lib/python3.8/dist-packages (from requests->gluoncv->monk-colab) (1.26.14)\n",
            "Requirement already satisfied: idna<3,>=2.5 in /usr/local/lib/python3.8/dist-packages (from requests->gluoncv->monk-colab) (2.10)\n",
            "Requirement already satisfied: certifi>=2017.4.17 in /usr/local/lib/python3.8/dist-packages (from requests->gluoncv->monk-colab) (2022.12.7)\n",
            "Requirement already satisfied: chardet<5,>=3.0.2 in /usr/local/lib/python3.8/dist-packages (from requests->gluoncv->monk-colab) (4.0.0)\n",
            "Requirement already satisfied: packaging>=20.0 in /usr/local/lib/python3.8/dist-packages (from matplotlib->gluoncv->monk-colab) (23.0)\n",
            "Requirement already satisfied: fonttools>=4.22.0 in /usr/local/lib/python3.8/dist-packages (from matplotlib->gluoncv->monk-colab) (4.38.0)\n",
            "Requirement already satisfied: pyparsing>=2.2.1 in /usr/local/lib/python3.8/dist-packages (from matplotlib->gluoncv->monk-colab) (3.0.9)\n",
            "Requirement already satisfied: kiwisolver>=1.0.1 in /usr/local/lib/python3.8/dist-packages (from matplotlib->gluoncv->monk-colab) (1.4.4)\n",
            "Requirement already satisfied: cycler>=0.10 in /usr/local/lib/python3.8/dist-packages (from matplotlib->gluoncv->monk-colab) (0.11.0)\n",
            "Requirement already satisfied: python-dateutil>=2.7 in /usr/local/lib/python3.8/dist-packages (from matplotlib->gluoncv->monk-colab) (2.8.2)\n",
            "Requirement already satisfied: pytz>=2017.3 in /usr/local/lib/python3.8/dist-packages (from pandas->gluoncv->monk-colab) (2022.7.1)\n",
            "Requirement already satisfied: six>=1.5 in /usr/local/lib/python3.8/dist-packages (from python-dateutil>=2.7->matplotlib->gluoncv->monk-colab) (1.15.0)\n",
            "Building wheels for collected packages: GPUtil\n",
            "  Building wheel for GPUtil (setup.py) ... \u001b[?25l\u001b[?25hdone\n",
            "  Created wheel for GPUtil: filename=GPUtil-1.4.0-py3-none-any.whl size=7409 sha256=133673c0a31b990cf3650c82133b561ed5a225a54e848f267394e51376a5a4ac\n",
            "  Stored in directory: /root/.cache/pip/wheels/ba/03/bb/7a97840eb54479b328672e15a536e49dc60da200fb21564d53\n",
            "Successfully built GPUtil\n",
            "Installing collected packages: pylg, GPUtil, yacs, portalocker, graphviz, autocfg, mxnet-cu101, gluoncv, monk-colab\n",
            "  Attempting uninstall: graphviz\n",
            "    Found existing installation: graphviz 0.10.1\n",
            "    Uninstalling graphviz-0.10.1:\n",
            "      Successfully uninstalled graphviz-0.10.1\n",
            "Successfully installed GPUtil-1.4.0 autocfg-0.0.8 gluoncv-0.10.5.post0 graphviz-0.8.4 monk-colab-0.0.1 mxnet-cu101-1.9.1 portalocker-2.7.0 pylg-1.3.3 yacs-0.1.8\n",
            "Looking in indexes: https://pypi.org/simple, https://us-python.pkg.dev/colab-wheels/public/simple/\n",
            "Requirement already satisfied: tensorflow in /usr/local/lib/python3.8/dist-packages (2.11.0)\n",
            "Requirement already satisfied: tensorboard<2.12,>=2.11 in /usr/local/lib/python3.8/dist-packages (from tensorflow) (2.11.2)\n",
            "Requirement already satisfied: libclang>=13.0.0 in /usr/local/lib/python3.8/dist-packages (from tensorflow) (15.0.6.1)\n",
            "Requirement already satisfied: absl-py>=1.0.0 in /usr/local/lib/python3.8/dist-packages (from tensorflow) (1.4.0)\n",
            "Requirement already satisfied: termcolor>=1.1.0 in /usr/local/lib/python3.8/dist-packages (from tensorflow) (2.2.0)\n",
            "Requirement already satisfied: wrapt>=1.11.0 in /usr/local/lib/python3.8/dist-packages (from tensorflow) (1.15.0)\n",
            "Requirement already satisfied: tensorflow-estimator<2.12,>=2.11.0 in /usr/local/lib/python3.8/dist-packages (from tensorflow) (2.11.0)\n",
            "Requirement already satisfied: h5py>=2.9.0 in /usr/local/lib/python3.8/dist-packages (from tensorflow) (3.1.0)\n",
            "Requirement already satisfied: grpcio<2.0,>=1.24.3 in /usr/local/lib/python3.8/dist-packages (from tensorflow) (1.51.3)\n",
            "Requirement already satisfied: keras<2.12,>=2.11.0 in /usr/local/lib/python3.8/dist-packages (from tensorflow) (2.11.0)\n",
            "Requirement already satisfied: astunparse>=1.6.0 in /usr/local/lib/python3.8/dist-packages (from tensorflow) (1.6.3)\n",
            "Requirement already satisfied: google-pasta>=0.1.1 in /usr/local/lib/python3.8/dist-packages (from tensorflow) (0.2.0)\n",
            "Requirement already satisfied: flatbuffers>=2.0 in /usr/local/lib/python3.8/dist-packages (from tensorflow) (23.1.21)\n",
            "Requirement already satisfied: numpy>=1.20 in /usr/local/lib/python3.8/dist-packages (from tensorflow) (1.22.4)\n",
            "Requirement already satisfied: packaging in /usr/local/lib/python3.8/dist-packages (from tensorflow) (23.0)\n",
            "Requirement already satisfied: six>=1.12.0 in /usr/local/lib/python3.8/dist-packages (from tensorflow) (1.15.0)\n",
            "Requirement already satisfied: typing-extensions>=3.6.6 in /usr/local/lib/python3.8/dist-packages (from tensorflow) (4.5.0)\n",
            "Requirement already satisfied: gast<=0.4.0,>=0.2.1 in /usr/local/lib/python3.8/dist-packages (from tensorflow) (0.4.0)\n",
            "Requirement already satisfied: tensorflow-io-gcs-filesystem>=0.23.1 in /usr/local/lib/python3.8/dist-packages (from tensorflow) (0.31.0)\n",
            "Requirement already satisfied: protobuf<3.20,>=3.9.2 in /usr/local/lib/python3.8/dist-packages (from tensorflow) (3.19.6)\n",
            "Requirement already satisfied: setuptools in /usr/local/lib/python3.8/dist-packages (from tensorflow) (57.4.0)\n",
            "Requirement already satisfied: opt-einsum>=2.3.2 in /usr/local/lib/python3.8/dist-packages (from tensorflow) (3.3.0)\n",
            "Requirement already satisfied: wheel<1.0,>=0.23.0 in /usr/local/lib/python3.8/dist-packages (from astunparse>=1.6.0->tensorflow) (0.38.4)\n",
            "Requirement already satisfied: tensorboard-plugin-wit>=1.6.0 in /usr/local/lib/python3.8/dist-packages (from tensorboard<2.12,>=2.11->tensorflow) (1.8.1)\n",
            "Requirement already satisfied: tensorboard-data-server<0.7.0,>=0.6.0 in /usr/local/lib/python3.8/dist-packages (from tensorboard<2.12,>=2.11->tensorflow) (0.6.1)\n",
            "Requirement already satisfied: google-auth-oauthlib<0.5,>=0.4.1 in /usr/local/lib/python3.8/dist-packages (from tensorboard<2.12,>=2.11->tensorflow) (0.4.6)\n",
            "Requirement already satisfied: google-auth<3,>=1.6.3 in /usr/local/lib/python3.8/dist-packages (from tensorboard<2.12,>=2.11->tensorflow) (2.16.1)\n",
            "Requirement already satisfied: requests<3,>=2.21.0 in /usr/local/lib/python3.8/dist-packages (from tensorboard<2.12,>=2.11->tensorflow) (2.25.1)\n",
            "Requirement already satisfied: markdown>=2.6.8 in /usr/local/lib/python3.8/dist-packages (from tensorboard<2.12,>=2.11->tensorflow) (3.4.1)\n",
            "Requirement already satisfied: werkzeug>=1.0.1 in /usr/local/lib/python3.8/dist-packages (from tensorboard<2.12,>=2.11->tensorflow) (2.2.3)\n",
            "Requirement already satisfied: cachetools<6.0,>=2.0.0 in /usr/local/lib/python3.8/dist-packages (from google-auth<3,>=1.6.3->tensorboard<2.12,>=2.11->tensorflow) (5.3.0)\n",
            "Requirement already satisfied: pyasn1-modules>=0.2.1 in /usr/local/lib/python3.8/dist-packages (from google-auth<3,>=1.6.3->tensorboard<2.12,>=2.11->tensorflow) (0.2.8)\n",
            "Requirement already satisfied: rsa<5,>=3.1.4 in /usr/local/lib/python3.8/dist-packages (from google-auth<3,>=1.6.3->tensorboard<2.12,>=2.11->tensorflow) (4.9)\n",
            "Requirement already satisfied: requests-oauthlib>=0.7.0 in /usr/local/lib/python3.8/dist-packages (from google-auth-oauthlib<0.5,>=0.4.1->tensorboard<2.12,>=2.11->tensorflow) (1.3.1)\n",
            "Requirement already satisfied: importlib-metadata>=4.4 in /usr/local/lib/python3.8/dist-packages (from markdown>=2.6.8->tensorboard<2.12,>=2.11->tensorflow) (6.0.0)\n",
            "Requirement already satisfied: chardet<5,>=3.0.2 in /usr/local/lib/python3.8/dist-packages (from requests<3,>=2.21.0->tensorboard<2.12,>=2.11->tensorflow) (4.0.0)\n",
            "Requirement already satisfied: urllib3<1.27,>=1.21.1 in /usr/local/lib/python3.8/dist-packages (from requests<3,>=2.21.0->tensorboard<2.12,>=2.11->tensorflow) (1.26.14)\n",
            "Requirement already satisfied: idna<3,>=2.5 in /usr/local/lib/python3.8/dist-packages (from requests<3,>=2.21.0->tensorboard<2.12,>=2.11->tensorflow) (2.10)\n",
            "Requirement already satisfied: certifi>=2017.4.17 in /usr/local/lib/python3.8/dist-packages (from requests<3,>=2.21.0->tensorboard<2.12,>=2.11->tensorflow) (2022.12.7)\n",
            "Requirement already satisfied: MarkupSafe>=2.1.1 in /usr/local/lib/python3.8/dist-packages (from werkzeug>=1.0.1->tensorboard<2.12,>=2.11->tensorflow) (2.1.2)\n",
            "Requirement already satisfied: zipp>=0.5 in /usr/local/lib/python3.8/dist-packages (from importlib-metadata>=4.4->markdown>=2.6.8->tensorboard<2.12,>=2.11->tensorflow) (3.15.0)\n",
            "Requirement already satisfied: pyasn1<0.5.0,>=0.4.6 in /usr/local/lib/python3.8/dist-packages (from pyasn1-modules>=0.2.1->google-auth<3,>=1.6.3->tensorboard<2.12,>=2.11->tensorflow) (0.4.8)\n",
            "Requirement already satisfied: oauthlib>=3.0.0 in /usr/local/lib/python3.8/dist-packages (from requests-oauthlib>=0.7.0->google-auth-oauthlib<0.5,>=0.4.1->tensorboard<2.12,>=2.11->tensorflow) (3.2.2)\n"
          ]
        }
      ],
      "source": [
        "!pip install monk-colab\n",
        "!pip install tensorflow"
      ]
    },
    {
      "cell_type": "code",
      "execution_count": null,
      "metadata": {
        "colab": {
          "base_uri": "https://localhost:8080/"
        },
        "id": "nZUco47c5OQz",
        "outputId": "7db09b32-e2a9-4638-bbc8-3f0c59dcc8da"
      },
      "outputs": [
        {
          "output_type": "stream",
          "name": "stdout",
          "text": [
            "Mounted at /content/drive\n"
          ]
        }
      ],
      "source": [
        "from google.colab import drive\n",
        "import os\n",
        "drive.mount('/content/drive',force_remount=True)\n",
        "\n",
        "os.chdir(\"/content/drive/My Drive/\")"
      ]
    },
    {
      "cell_type": "code",
      "execution_count": null,
      "metadata": {
        "colab": {
          "base_uri": "https://localhost:8080/",
          "height": 599
        },
        "id": "6oDb9wbf5R1F",
        "outputId": "fe804c13-c351-468b-e53f-0d6f652e40bc"
      },
      "outputs": [
        {
          "name": "stdout",
          "output_type": "stream",
          "text": [
            "Pytorch Version: 1.13.1+cu116\n",
            "\n",
            "Model Details\n",
            "    Loading model - workspace/Make_classifier/inception-v3-pytorch/output/models/final\n",
            "    Model loaded!\n",
            "\n",
            "Experiment Details\n",
            "    Project: Make_classifier\n",
            "    Experiment: inception-v3-pytorch\n",
            "    Dir: /content/drive/MyDrive/Keystone Project/dataset/workspace/Make_classifier/inception-v3-pytorch/\n",
            "\n"
          ]
        },
        {
          "data": {
            "image/png": "[encoded data removed]",
            "text/plain": [
              "<Figure size 432x288 with 1 Axes>"
            ]
          },
          "metadata": {},
          "output_type": "display_data"
        },
        {
          "name": "stdout",
          "output_type": "stream",
          "text": [
            "Prediction\n",
            "    Image name:         /content/drive/My Drive/dataset/img2 (1).jpg\n",
            "    Predicted class:      pet\n",
            "    Predicted score:      0.848580539226532\n",
            "\n",
            "Predicted Class: pet\n",
            "Prediction Score:  0.84858054\n",
            "Expected Class:  beauty\n"
          ]
        }
      ],
      "source": [
        "import matplotlib.pyplot as plt     # To display the images\n",
        "import matplotlib.image as mpimg\n",
        "import numpy as np\n",
        "import os\n",
        "#os.chdir(\"/content/drive/My Drive/Keystone Project/dataset\")\n",
        "from monk.pytorch_prototype import prototype\n",
        "gtf = prototype(verbose=1)\n",
        "\n",
        "gtf.Prototype(\"Make_classifier\", \"inception-v3-pytorch\", eval_infer=True);\n",
        "\n",
        "# torch.save(ptf,'modelisha12.pt')\n",
        "\n",
        "#model = torch.load('/content/drive/My Drive/Keystone Project/dataset/modelisha12.pt', map_location=torch.device('cpu'))\n",
        "img_name = \"/content/drive/My Drive/dataset/img2 (1).jpg\"     # Expected output: Beetle\n",
        "\n",
        "img=mpimg.imread(img_name)\n",
        "plt.imshow(img)\n",
        "plt.show()\n",
        "\n",
        "predictions = gtf.Infer(img_name=img_name, return_raw=True);\n",
        "\n",
        "print(\"Predicted Class: \"+predictions['predicted_class'].replace('_',''))\n",
        "print(\"Prediction Score: \",predictions['score'])\n",
        "# print(\"Expected Class: \"+\" beauty\")"
      ]
    },
    {
      "cell_type": "code",
      "execution_count": null,
      "metadata": {
        "id": "Ns9WY7Cq6gPH"
      },
      "outputs": [],
      "source": [
        "from monk.pytorch_prototype import prototype\n",
        "import os\n",
        "import csv\n",
        "\n",
        "def model_predict(user_folder):\n",
        "   \n",
        "   make = prototype(verbose=0)\n",
        "   make.Prototype(\"Make_classifier\", \"inception-v3-pytorch\", eval_infer=True)\n",
        "   pred_names = []\n",
        "   pred_val = []\n",
        "   files = os.listdir(user_folder)\n",
        "   for f in files:\n",
        "    abs_path = user_folder+f\n",
        "    predictions = make.Infer(img_name= abs_path, return_raw=False)\n",
        "    pred_names.append(predictions['predicted_class'].replace('_',''))\n",
        "    pred_val.append(str(predictions['score']))\n",
        "   return pred_names,pred_val \n",
        "with open('Categories.csv', 'a', newline='', encoding='utf-8') as file:\n",
        "  writer = csv.writer(file)  \n",
        "  #writer.writerow([\"Username\",\"Predicted Class\",\"Prediction Score\"])\n",
        "\n",
        "\n",
        "folders = os.listdir(\"/content/drive/My Drive/data-3rdmarch/\")\n",
        "for f in folders:\n",
        "  fold = f'/content/drive/My Drive/data-3rdmarch/{f}/'  \n",
        "  pred_names,pred_val = model_predict(fold)\n",
        "  with open('Categories.csv', 'a', newline='', encoding='utf-8') as file:\n",
        "    writer = csv.writer(file)  \n",
        "    for i in range(len(pred_names)):\n",
        "\n",
        "      writer.writerow([f,pred_names[i],pred_val[i]])\n",
        "\n",
        "\n",
        "\n"
      ]
    },
    {
      "cell_type": "code",
      "execution_count": null,
      "metadata": {
        "colab": {
          "base_uri": "https://localhost:8080/"
        },
        "id": "Vy8Da0Lk64Px",
        "outputId": "0db90158-be4a-4a9c-c77f-6c2c1f61777a"
      },
      "outputs": [
        {
          "name": "stdout",
          "output_type": "stream",
          "text": [
            "Looking in indexes: https://pypi.org/simple, https://us-python.pkg.dev/colab-wheels/public/simple/\n",
            "Collecting flask-ngrok\n",
            "  Downloading flask_ngrok-0.0.25-py3-none-any.whl (3.1 kB)\n",
            "Requirement already satisfied: requests in /usr/local/lib/python3.8/dist-packages (from flask-ngrok) (2.25.1)\n",
            "Requirement already satisfied: Flask>=0.8 in /usr/local/lib/python3.8/dist-packages (from flask-ngrok) (1.1.4)\n",
            "Requirement already satisfied: itsdangerous<2.0,>=0.24 in /usr/local/lib/python3.8/dist-packages (from Flask>=0.8->flask-ngrok) (1.1.0)\n",
            "Requirement already satisfied: Jinja2<3.0,>=2.10.1 in /usr/local/lib/python3.8/dist-packages (from Flask>=0.8->flask-ngrok) (2.11.3)\n",
            "Requirement already satisfied: Werkzeug<2.0,>=0.15 in /usr/local/lib/python3.8/dist-packages (from Flask>=0.8->flask-ngrok) (1.0.1)\n",
            "Requirement already satisfied: click<8.0,>=5.1 in /usr/local/lib/python3.8/dist-packages (from Flask>=0.8->flask-ngrok) (7.1.2)\n",
            "Requirement already satisfied: urllib3<1.27,>=1.21.1 in /usr/local/lib/python3.8/dist-packages (from requests->flask-ngrok) (1.24.3)\n",
            "Requirement already satisfied: idna<3,>=2.5 in /usr/local/lib/python3.8/dist-packages (from requests->flask-ngrok) (2.10)\n",
            "Requirement already satisfied: chardet<5,>=3.0.2 in /usr/local/lib/python3.8/dist-packages (from requests->flask-ngrok) (4.0.0)\n",
            "Requirement already satisfied: certifi>=2017.4.17 in /usr/local/lib/python3.8/dist-packages (from requests->flask-ngrok) (2022.12.7)\n",
            "Requirement already satisfied: MarkupSafe>=0.23 in /usr/local/lib/python3.8/dist-packages (from Jinja2<3.0,>=2.10.1->Flask>=0.8->flask-ngrok) (2.0.1)\n",
            "Installing collected packages: flask-ngrok\n",
            "Successfully installed flask-ngrok-0.0.25\n"
          ]
        }
      ],
      "source": [
        "!pip install flask-ngrok"
      ]
    },
    {
      "cell_type": "code",
      "execution_count": null,
      "metadata": {
        "id": "9l97wFzuaygO"
      },
      "outputs": [],
      "source": [
        "!wget -q https://bin.equinox.io/c/4VmDzA7iaHb/ngrok-stable-linux-amd64.tgz"
      ]
    },
    {
      "cell_type": "code",
      "execution_count": null,
      "metadata": {
        "id": "6eIZAM3pGwi-"
      },
      "outputs": [],
      "source": [
        "os.chdir(\"/content/drive/My Drive/\")"
      ]
    },
    {
      "cell_type": "code",
      "execution_count": null,
      "metadata": {
        "colab": {
          "base_uri": "https://localhost:8080/"
        },
        "id": "NqdXiCKabAFb",
        "outputId": "ac91bc3c-d7a9-46dd-d3db-54af70249b68"
      },
      "outputs": [
        {
          "name": "stdout",
          "output_type": "stream",
          "text": [
            "tar: /content/ngrok-stable-linux-amd64.tgz: Cannot open: No such file or directory\n",
            "tar: Error is not recoverable: exiting now\n"
          ]
        }
      ],
      "source": [
        "!tar -xvf /content/ngrok-stable-linux-amd64.tgz"
      ]
    },
    {
      "cell_type": "code",
      "execution_count": null,
      "metadata": {
        "colab": {
          "base_uri": "https://localhost:8080/"
        },
        "id": "9LdWFekQHRiy",
        "outputId": "5ebc138a-10d4-4f82-9308-2163499567cb"
      },
      "outputs": [
        {
          "name": "stdout",
          "output_type": "stream",
          "text": [
            "/drive/ngrok-ssh\n",
            "--2023-02-27 18:23:03--  https://bin.equinox.io/c/4VmDzA7iaHb/ngrok-stable-linux-amd64.zip\n",
            "Resolving bin.equinox.io (bin.equinox.io)... 54.161.241.46, 52.202.168.65, 54.237.133.81, ...\n",
            "Connecting to bin.equinox.io (bin.equinox.io)|54.161.241.46|:443... connected.\n",
            "HTTP request sent, awaiting response... 200 OK\n",
            "Length: 13921656 (13M) [application/octet-stream]\n",
            "Saving to: ‘ngrok-stable-linux-amd64.zip’\n",
            "\n",
            "ngrok-stable-linux- 100%[===================>]  13.28M  50.8MB/s    in 0.3s    \n",
            "\n",
            "2023-02-27 18:23:04 (50.8 MB/s) - ‘ngrok-stable-linux-amd64.zip’ saved [13921656/13921656]\n",
            "\n",
            "Archive:  ngrok-stable-linux-amd64.zip\n",
            "  inflating: ngrok                   \n"
          ]
        }
      ],
      "source": [
        "!mkdir -p /drive/ngrok-ssh\n",
        "%cd /drive/ngrok-ssh\n",
        "!wget https://bin.equinox.io/c/4VmDzA7iaHb/ngrok-stable-linux-amd64.zip -O ngrok-stable-linux-amd64.zip\n",
        "!unzip -u ngrok-stable-linux-amd64.zip\n",
        "!cp /drive/ngrok-ssh/ngrok /ngrok\n",
        "!chmod +x /ngrok"
      ]
    },
    {
      "cell_type": "code",
      "execution_count": null,
      "metadata": {
        "id": "x8LmzdQVHUE9"
      },
      "outputs": [],
      "source": []
    },
    {
      "cell_type": "code",
      "execution_count": null,
      "metadata": {
        "colab": {
          "base_uri": "https://localhost:8080/"
        },
        "id": "tNvtYv0NbDHf",
        "outputId": "943eaa89-4758-45b8-da90-937c54921cb7"
      },
      "outputs": [
        {
          "name": "stdout",
          "output_type": "stream",
          "text": [
            "3.665\n",
            "66.0\n",
            "['fitness']\n"
          ]
        }
      ],
      "source": [
        "from collections import defaultdict\n",
        "names = ['beauty','beauty','fitness']\n",
        "val = [2.33,5,66]\n",
        "res = defaultdict(list)\n",
        "for i in range(len(names)):\n",
        "  res[names[i]].append(val[i])\n",
        "newdict = dict()\n",
        "for i in res:\n",
        "  print(np.mean(res[i]))\n",
        "  newdict[i] = np.mean(res[i])\n",
        "sorteddict = sorted(newdict,reverse = True)\n",
        "print(sorteddict[:2])"
      ]
    },
    {
      "cell_type": "code",
      "execution_count": null,
      "metadata": {
        "colab": {
          "base_uri": "https://localhost:8080/"
        },
        "id": "XsqBeYM2aXes",
        "outputId": "5f2e611b-8b5a-4a56-e625-b2e1f5a81a61"
      },
      "outputs": [
        {
          "name": "stdout",
          "output_type": "stream",
          "text": [
            "Authtoken saved to configuration file: /root/.ngrok2/ngrok.yml\n"
          ]
        }
      ],
      "source": [
        "\n",
        "!./ngrok authtoken 2MIxUlJh8NYlzQCFrRAXaqZOAqk_6SSsBhthUogobxHwa54yo"
      ]
    },
    {
      "cell_type": "code",
      "execution_count": null,
      "metadata": {
        "colab": {
          "base_uri": "https://localhost:8080/"
        },
        "id": "5Sjv42vDcF1f",
        "outputId": "33bdf7fc-cad1-4066-f5ca-e3cb26440112"
      },
      "outputs": [
        {
          "name": "stdout",
          "output_type": "stream",
          "text": [
            "Looking in indexes: https://pypi.org/simple, https://us-python.pkg.dev/colab-wheels/public/simple/\n",
            "Collecting instaloader\n",
            "  Downloading instaloader-4.9.6.tar.gz (60 kB)\n",
            "\u001b[2K     \u001b[90m━━━━━━━━━━━━━━━━━━━━━━━━━━━━━━━━━━━━━━━━\u001b[0m \u001b[32m60.5/60.5 KB\u001b[0m \u001b[31m2.8 MB/s\u001b[0m eta \u001b[36m0:00:00\u001b[0m\n",
            "\u001b[?25h  Preparing metadata (setup.py) ... \u001b[?25l\u001b[?25hdone\n",
            "Requirement already satisfied: requests>=2.4 in /usr/local/lib/python3.8/dist-packages (from instaloader) (2.25.1)\n",
            "Requirement already satisfied: idna<3,>=2.5 in /usr/local/lib/python3.8/dist-packages (from requests>=2.4->instaloader) (2.10)\n",
            "Requirement already satisfied: certifi>=2017.4.17 in /usr/local/lib/python3.8/dist-packages (from requests>=2.4->instaloader) (2022.12.7)\n",
            "Requirement already satisfied: chardet<5,>=3.0.2 in /usr/local/lib/python3.8/dist-packages (from requests>=2.4->instaloader) (4.0.0)\n",
            "Requirement already satisfied: urllib3<1.27,>=1.21.1 in /usr/local/lib/python3.8/dist-packages (from requests>=2.4->instaloader) (1.24.3)\n",
            "Building wheels for collected packages: instaloader\n",
            "  Building wheel for instaloader (setup.py) ... \u001b[?25l\u001b[?25hdone\n",
            "  Created wheel for instaloader: filename=instaloader-4.9.6-py3-none-any.whl size=62329 sha256=9f92a67902e85b704a1915656fb699d8f4ef6c4d153385811fcb349efaabe871\n",
            "  Stored in directory: /root/.cache/pip/wheels/b1/ac/f1/209b1a8a7e77273e2487364e25d8ea4d844f9c9ed155ea22f1\n",
            "Successfully built instaloader\n",
            "Installing collected packages: instaloader\n",
            "Successfully installed instaloader-4.9.6\n"
          ]
        }
      ],
      "source": [
        "!pip install instaloader"
      ]
    },
    {
      "cell_type": "code",
      "execution_count": null,
      "metadata": {
        "id": "tYGABekvcI9V"
      },
      "outputs": [],
      "source": [
        "from datetime import datetime, date\n",
        "import time\n",
        "from itertools import dropwhile, takewhile\n",
        "import csv\n",
        "import instaloader\n",
        "import random\n",
        "from argparse import ArgumentParser\n",
        "import os\n",
        "from monk.pytorch_prototype import prototype\n",
        "\n",
        "def getData(entered_name):\n",
        "    p = ArgumentParser()\n",
        "    p.add_argument(\"--no-metadata-json\")\n",
        "    p.add_argument(\"-F\",\"--fast-update\")\n",
        "    p.add_argument(\"--latest-stamps\")\n",
        "    args = p.parse_args()\n",
        "    # entered_name = \"\"\n",
        "   \n",
        "    bot = instaloader.Instaloader(max_connection_attempts=1,download_videos=False, save_metadata=False, post_metadata_txt_pattern='')\n",
        "    bot.load_session_from_file('teaminfluence2023','session-teaminfluence2023')\n",
        "   \n",
        "    while True:\n",
        "        try:\n",
        "            profile = instaloader.Profile.from_username(bot.context, entered_name)\n",
        "            print(\"Username: \", profile.username)\n",
        "            print(\"Number of Posts: \", profile.mediacount)\n",
        "            posts = instaloader.Profile.from_username(bot.context,entered_name).get_posts()\n",
        "            today = date.today()\n",
        "            year = int(today.strftime(\"%Y\"))\n",
        "            month = int(today.strftime(\"%m\"))\n",
        "            day = int(today.strftime(\"%d\"))\n",
        "\n",
        "            sinceyear = year\n",
        "\n",
        "            sincemonth = month -6\n",
        "            if(sincemonth <= 0):\n",
        "                #reducing the year if the month is in prev year\n",
        "                sinceyear = year -1\n",
        "                #changing the month to be of the years month.\n",
        "                sincemonth +=12\n",
        "\n",
        "            # dd/mm/YY  \n",
        "            SINCE = datetime(sinceyear, sincemonth, day)\n",
        "            UNTIL = datetime(year, month, day)\n",
        "\n",
        "\n",
        "            with open(entered_name+'.csv', 'w', newline='', encoding='utf-8') as file:\n",
        "                        writer = csv.writer(file)\n",
        "                        posts = instaloader.Profile.from_username(bot.context, entered_name).get_posts()\n",
        "\n",
        "                        for post in takewhile(lambda p: p.date > SINCE, dropwhile(lambda p: p.date > UNTIL, posts)):\n",
        "                       \n",
        "                            time.sleep(random.randint(11,22))\n",
        "                         \n",
        "                            bot.download_post(post, entered_name)\n",
        "                            posturl = \"https://www.instagram.com/p/\"+post.shortcode\n",
        "\n",
        "                            writer.writerow([\"post\", post.caption, posturl]) #,  post.url ])\n",
        "                        \n",
        "                            print(\"\\n\\n\")\n",
        "                        break\n",
        "        \n",
        "            break\n",
        "\n",
        "            \n",
        "        except Exception:\n",
        "           print(\"Oops!  That was no valid username.  Try again...\")\n",
        "           break\n",
        "           \n"
      ]
    },
    {
      "cell_type": "code",
      "execution_count": null,
      "metadata": {
        "colab": {
          "base_uri": "https://localhost:8080/"
        },
        "id": "BTy4Iuh5e3_6",
        "outputId": "e6a6a58c-4e32-4196-f82d-f9838595d269"
      },
      "outputs": [
        {
          "name": "stdout",
          "output_type": "stream",
          "text": [
            "Looking in indexes: https://pypi.org/simple, https://us-python.pkg.dev/colab-wheels/public/simple/\n",
            "Requirement already satisfied: instaloader in /usr/local/lib/python3.8/dist-packages (4.9.6)\n",
            "Requirement already satisfied: requests>=2.4 in /usr/local/lib/python3.8/dist-packages (from instaloader) (2.25.1)\n",
            "Requirement already satisfied: idna<3,>=2.5 in /usr/local/lib/python3.8/dist-packages (from requests>=2.4->instaloader) (2.10)\n",
            "Requirement already satisfied: certifi>=2017.4.17 in /usr/local/lib/python3.8/dist-packages (from requests>=2.4->instaloader) (2022.12.7)\n",
            "Requirement already satisfied: chardet<5,>=3.0.2 in /usr/local/lib/python3.8/dist-packages (from requests>=2.4->instaloader) (4.0.0)\n",
            "Requirement already satisfied: urllib3<1.27,>=1.21.1 in /usr/local/lib/python3.8/dist-packages (from requests>=2.4->instaloader) (1.24.3)\n"
          ]
        }
      ],
      "source": [
        "!pip install instaloader"
      ]
    },
    {
      "cell_type": "code",
      "execution_count": null,
      "metadata": {
        "colab": {
          "background_save": true,
          "base_uri": "https://localhost:8080/"
        },
        "id": "kK5KAPNL69NT",
        "outputId": "15ddefba-249b-42c4-c2ad-c0ac1aa89b40"
      },
      "outputs": [
        {
          "name": "stdout",
          "output_type": "stream",
          "text": [
            " * Serving Flask app \"__main__\" (lazy loading)\n",
            " * Environment: production\n",
            "\u001b[31m   WARNING: This is a development server. Do not use it in a production deployment.\u001b[0m\n",
            "\u001b[2m   Use a production WSGI server instead.\u001b[0m\n",
            " * Debug mode: off\n"
          ]
        },
        {
          "name": "stderr",
          "output_type": "stream",
          "text": [
            "INFO:werkzeug: * Running on http://127.0.0.1:5000/ (Press CTRL+C to quit)\n"
          ]
        },
        {
          "name": "stdout",
          "output_type": "stream",
          "text": [
            " * Running on http://08e2-34-85-202-235.ngrok.io\n",
            " * Traffic stats available on http://127.0.0.1:4040\n"
          ]
        },
        {
          "name": "stderr",
          "output_type": "stream",
          "text": [
            "INFO:werkzeug:127.0.0.1 - - [27/Feb/2023 19:18:44] \"\u001b[37mGET / HTTP/1.1\u001b[0m\" 200 -\n",
            "INFO:werkzeug:127.0.0.1 - - [27/Feb/2023 19:18:44] \"\u001b[33mGET /favicon.ico HTTP/1.1\u001b[0m\" 404 -\n"
          ]
        },
        {
          "name": "stdout",
          "output_type": "stream",
          "text": [
            "Calling Get_Data\n",
            "Calling Get_Data\n"
          ]
        },
        {
          "name": "stderr",
          "output_type": "stream",
          "text": [
            "INFO:werkzeug:127.0.0.1 - - [27/Feb/2023 19:20:18] \"\u001b[37mGET /demo HTTP/1.1\u001b[0m\" 200 -\n",
            "INFO:werkzeug:127.0.0.1 - - [27/Feb/2023 19:20:19] \"\u001b[37mGET /demo HTTP/1.1\u001b[0m\" 200 -\n"
          ]
        },
        {
          "name": "stdout",
          "output_type": "stream",
          "text": [
            "['beauty', 'beauty', 'beauty', 'beauty', 'beauty', 'beauty', 'beauty', 'fitness', 'beauty', 'fashion', 'other', 'fashion', 'family', 'beauty', 'family', 'beauty', 'family', 'travel', 'interior', 'other', 'interior', 'beauty', 'beauty', 'beauty', 'beauty', 'interior', 'beauty', 'fitness', 'beauty', 'beauty', 'beauty', 'interior', 'beauty', 'beauty', 'beauty', 'beauty', 'family', 'beauty', 'beauty', 'family', 'beauty', 'interior', 'beauty', 'beauty', 'beauty', 'beauty', 'beauty', 'beauty', 'family', 'beauty', 'family', 'beauty', 'family', 'beauty', 'food', 'beauty', 'food', 'beauty', 'family', 'beauty', 'interior', 'beauty', 'interior', 'beauty', 'food', 'beauty', 'fashion', 'beauty', 'fitness', 'beauty', 'family', 'beauty', 'beauty', 'beauty', 'fitness', 'interior', 'fitness', 'family', 'family', 'beauty', 'beauty', 'fashion', 'beauty', 'beauty', 'beauty', 'food', 'fitness', 'family', 'beauty', 'fitness', 'beauty', 'beauty', 'beauty', 'fashion', 'fitness', 'beauty', 'beauty', 'fitness']\n",
            "['0.9649198', '0.9977009', '0.9992964', '0.99911445', '0.99435693', '0.9992554', '0.9182928', '0.42150638', '0.99936414', '0.9956921', '0.72920215', '0.20357111', '0.90653384', '0.99899346', '0.63870883', '0.9772799', '0.41308305', '0.97674096', '0.7900298', '0.8792175', '0.5299412', '0.9990154', '0.9994937', '0.9824841', '0.9989677', '0.6946801', '0.545287', '0.2831416', '0.99941176', '0.99963486', '0.9984239', '0.87326884', '0.99905246', '0.9997806', '0.9998265', '0.9997406', '0.82138133', '0.9996787', '0.99975395', '0.408361', '0.99957573', '0.30760825', '0.47925624', '0.9994689', '0.78515273', '0.7161063', '0.9995938', '0.9993536', '0.3292791', '0.9996329', '0.6146181', '0.99980646', '0.929686', '0.9993651', '0.33844742', '0.9997178', '0.51214755', '0.9995119', '0.86667824', '0.9993737', '0.7161329', '0.99939466', '0.8109758', '0.99923646', '0.44561115', '0.999816', '0.42580754', '0.8615607', '0.80407685', '0.99911445', '0.31935757', '0.86017036', '0.60113066', '0.99275696', '0.39455616', '0.45266777', '0.3242269', '0.685589', '0.9050459', '0.6404002', '0.9981525', '0.81772274', '0.9996253', '0.9996958', '0.9993536', '0.30760095', '0.5006263', '0.64341587', '0.6911819', '0.44027597', '0.9816534', '0.5008213', '0.40911743', '0.39120328', '0.8047634', '0.9978266', '0.9674689', '0.46762985']\n",
            "['travel', 'other']\n",
            "['beauty', 'beauty', 'beauty', 'beauty', 'beauty', 'beauty', 'beauty', 'fitness', 'beauty', 'fashion', 'other', 'fashion', 'family', 'beauty', 'family', 'beauty', 'family', 'travel', 'interior', 'other', 'interior', 'beauty', 'beauty', 'beauty', 'beauty', 'interior', 'beauty', 'fitness', 'beauty', 'beauty', 'beauty', 'interior', 'beauty', 'beauty', 'beauty', 'beauty', 'family', 'beauty', 'beauty', 'family', 'beauty', 'interior', 'beauty', 'beauty', 'beauty', 'beauty', 'beauty', 'beauty', 'family', 'beauty', 'family', 'beauty', 'family', 'beauty', 'food', 'beauty', 'food', 'beauty', 'family', 'beauty', 'interior', 'beauty', 'interior', 'beauty', 'food', 'beauty', 'fashion', 'beauty', 'fitness', 'beauty', 'family', 'beauty', 'beauty', 'beauty', 'fitness', 'interior', 'fitness', 'family', 'family', 'beauty', 'beauty', 'fashion', 'beauty', 'beauty', 'beauty', 'food', 'fitness', 'family', 'beauty', 'fitness', 'beauty', 'beauty', 'beauty', 'fashion', 'fitness', 'beauty', 'beauty', 'fitness']\n",
            "['0.9649198', '0.9977009', '0.9992964', '0.99911445', '0.99435693', '0.9992554', '0.9182928', '0.42150638', '0.99936414', '0.9956921', '0.72920215', '0.20357111', '0.90653384', '0.99899346', '0.63870883', '0.9772799', '0.41308305', '0.97674096', '0.7900298', '0.8792175', '0.5299412', '0.9990154', '0.9994937', '0.9824841', '0.9989677', '0.6946801', '0.545287', '0.2831416', '0.99941176', '0.99963486', '0.9984239', '0.87326884', '0.99905246', '0.9997806', '0.9998265', '0.9997406', '0.82138133', '0.9996787', '0.99975395', '0.408361', '0.99957573', '0.30760825', '0.47925624', '0.9994689', '0.78515273', '0.7161063', '0.9995938', '0.9993536', '0.3292791', '0.9996329', '0.6146181', '0.99980646', '0.929686', '0.9993651', '0.33844742', '0.9997178', '0.51214755', '0.9995119', '0.86667824', '0.9993737', '0.7161329', '0.99939466', '0.8109758', '0.99923646', '0.44561115', '0.999816', '0.42580754', '0.8615607', '0.80407685', '0.99911445', '0.31935757', '0.86017036', '0.60113066', '0.99275696', '0.39455616', '0.45266777', '0.3242269', '0.685589', '0.9050459', '0.6404002', '0.9981525', '0.81772274', '0.9996253', '0.9996958', '0.9993536', '0.30760095', '0.5006263', '0.64341587', '0.6911819', '0.44027597', '0.9816534', '0.5008213', '0.40911743', '0.39120328', '0.8047634', '0.9978266', '0.9674689', '0.46762985']\n",
            "['travel', 'other']\n"
          ]
        },
        {
          "name": "stderr",
          "output_type": "stream",
          "text": [
            "INFO:werkzeug:127.0.0.1 - - [27/Feb/2023 19:27:19] \"\u001b[37mHEAD / HTTP/1.1\u001b[0m\" 200 -\n",
            "INFO:werkzeug:127.0.0.1 - - [27/Feb/2023 19:32:05] \"\u001b[37mGET / HTTP/1.1\u001b[0m\" 200 -\n",
            "INFO:werkzeug:127.0.0.1 - - [27/Feb/2023 19:32:05] \"\u001b[37mHEAD / HTTP/1.1\u001b[0m\" 200 -\n",
            "INFO:werkzeug:127.0.0.1 - - [27/Feb/2023 19:42:16] \"\u001b[37mGET / HTTP/1.1\u001b[0m\" 200 -\n",
            "INFO:werkzeug:127.0.0.1 - - [27/Feb/2023 19:42:49] \"\u001b[37mGET / HTTP/1.1\u001b[0m\" 200 -\n"
          ]
        }
      ],
      "source": [
        "from monk.pytorch_prototype import prototype\n",
        "from flask import Flask\n",
        "from flask_ngrok import run_with_ngrok\n",
        "import matplotlib.pyplot as plt\n",
        "from datetime import datetime, date\n",
        "import matplotlib.image as mpimg\n",
        "import time\n",
        "import json\n",
        "from itertools import dropwhile, takewhile\n",
        "import csv\n",
        "import instaloader\n",
        "import random\n",
        "from argparse import ArgumentParser\n",
        "import os\n",
        "import numpy as np\n",
        "from collections import defaultdict\n",
        "os.chdir(\"/content/drive/My Drive/\")\n",
        "app = Flask(__name__)\n",
        "run_with_ngrok(app)   \n",
        "  \n",
        "@app.route(\"/\")\n",
        "def home():\n",
        "    return \"<h1>Hello World!</h1>\"\n",
        "\n",
        "@app.route('/demo')\n",
        "def get_data():\n",
        "  user_name = \"angelabright\"\n",
        "  print(\"Calling Get_Data\")\n",
        "  #getData(user_name)\n",
        "  user_folder = f'/content/drive/My Drive/dataset/{user_name}/'\n",
        "\n",
        "  # files = os.listdir(user_folder)\n",
        "  #pred_names = []\n",
        "  #pred_val = []\n",
        "  names,val = model_predict(user_folder)\n",
        "  print(names)\n",
        "  print(val)\n",
        "\n",
        "  # for f in files:\n",
        "  #   abs_path = user_folder+f\n",
        "  #   model_predict(abs_path,pred_names,pred_val)\n",
        "  # print(\"printing\")\n",
        "  #result = dict(map(lambda i,j : (i,j) , names,val))\n",
        "  res1 = defaultdict(list)\n",
        "  for i in range(len(names)):\n",
        "    res1[names[i]].append(float(val[i]))\n",
        "  newdict = dict()\n",
        "  for i in res1:\n",
        "    newdict[i] = np.mean(np.array(res1[i]))\n",
        "  sorteddict = sorted(newdict,reverse = True)\n",
        "  print(sorteddict[:2])\n",
        "  # return \"Done\"\n",
        " \n",
        "  res = {\n",
        "      \"name\":names,\n",
        "      \"vals\":val\n",
        "  }\n",
        "  #return f'/The predicted values are : {sorteddict[:2]}'\n",
        "\n",
        "\n",
        "  return {\n",
        "      \"data\":res\n",
        "  }\n",
        "\n",
        "def model_predict(user_folder):\n",
        "   \n",
        "   make = prototype(verbose=0)\n",
        "   make.Prototype(\"Make_classifier\", \"inception-v3-pytorch\", eval_infer=True)\n",
        "   pred_names = []\n",
        "   pred_val = []\n",
        "   files = os.listdir(user_folder)\n",
        "   for f in files:\n",
        "    abs_path = user_folder+f\n",
        "    predictions = make.Infer(img_name= abs_path, return_raw=False)\n",
        "    # print(\"Predicted Class: \"+predictions['predicted_class'].replace('_',''))\n",
        "    # print(\"Prediction Score: \",predictions['score'])\n",
        "    pred_names.append(predictions['predicted_class'].replace('_',''))\n",
        "    pred_val.append(str(predictions['score']))\n",
        "    #print(\"Expected Class: \"+\" beauty\")\n",
        "   return pred_names,pred_val \n",
        "\n",
        "    \n",
        "app.run()"
      ]
    },
    {
      "cell_type": "code",
      "execution_count": null,
      "metadata": {
        "id": "_1SvEQez7Saf"
      },
      "outputs": [],
      "source": []
    }
  ],
  "metadata": {
    "colab": {
      "provenance": [],
      "include_colab_link": true
    },
    "kernelspec": {
      "display_name": "Python 3",
      "name": "python3"
    },
    "language_info": {
      "name": "python"
    }
  },
  "nbformat": 4,
  "nbformat_minor": 0
}