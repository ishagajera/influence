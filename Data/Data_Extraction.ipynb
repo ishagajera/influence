{
 "cells": [
  {
   "cell_type": "code",
   "execution_count": 1,
   "metadata": {},
   "outputs": [],
   "source": [
    "import pandas as pd\n",
    "\n",
    "read_file = pd.read_csv (r'influencers.txt')\n",
    "read_file.to_csv (r'data.csv', index=None)"
   ]
  },
  {
   "cell_type": "code",
   "execution_count": 2,
   "metadata": {},
   "outputs": [
    {
     "data": {
      "text/html": [
       "<div>\n",
       "<style scoped>\n",
       "    .dataframe tbody tr th:only-of-type {\n",
       "        vertical-align: middle;\n",
       "    }\n",
       "\n",
       "    .dataframe tbody tr th {\n",
       "        vertical-align: top;\n",
       "    }\n",
       "\n",
       "    .dataframe thead th {\n",
       "        text-align: right;\n",
       "    }\n",
       "</style>\n",
       "<table border=\"1\" class=\"dataframe\">\n",
       "  <thead>\n",
       "    <tr style=\"text-align: right;\">\n",
       "      <th></th>\n",
       "      <th>Username</th>\n",
       "      <th>Category</th>\n",
       "      <th>#Followers</th>\n",
       "      <th>#Followees</th>\n",
       "      <th>#Posts</th>\n",
       "    </tr>\n",
       "  </thead>\n",
       "  <tbody>\n",
       "    <tr>\n",
       "      <td>1</td>\n",
       "      <td>makeupbynvs</td>\n",
       "      <td>beauty</td>\n",
       "      <td>1432.0</td>\n",
       "      <td>1089.0</td>\n",
       "      <td>363.0</td>\n",
       "    </tr>\n",
       "    <tr>\n",
       "      <td>2</td>\n",
       "      <td>jaquelinevandoski</td>\n",
       "      <td>beauty</td>\n",
       "      <td>137600.0</td>\n",
       "      <td>548.0</td>\n",
       "      <td>569.0</td>\n",
       "    </tr>\n",
       "    <tr>\n",
       "      <td>3</td>\n",
       "      <td>anisaartistry</td>\n",
       "      <td>beauty</td>\n",
       "      <td>64644.0</td>\n",
       "      <td>289.0</td>\n",
       "      <td>391.0</td>\n",
       "    </tr>\n",
       "    <tr>\n",
       "      <td>4</td>\n",
       "      <td>rubina_muartistry</td>\n",
       "      <td>beauty</td>\n",
       "      <td>496406.0</td>\n",
       "      <td>742.0</td>\n",
       "      <td>887.0</td>\n",
       "    </tr>\n",
       "    <tr>\n",
       "      <td>5</td>\n",
       "      <td>beautyxabbi</td>\n",
       "      <td>beauty</td>\n",
       "      <td>2050.0</td>\n",
       "      <td>1423.0</td>\n",
       "      <td>751.0</td>\n",
       "    </tr>\n",
       "    <tr>\n",
       "      <td>...</td>\n",
       "      <td>...</td>\n",
       "      <td>...</td>\n",
       "      <td>...</td>\n",
       "      <td>...</td>\n",
       "      <td>...</td>\n",
       "    </tr>\n",
       "    <tr>\n",
       "      <td>33931</td>\n",
       "      <td>alingzhang</td>\n",
       "      <td>other</td>\n",
       "      <td>4597.0</td>\n",
       "      <td>881.0</td>\n",
       "      <td>365.0</td>\n",
       "    </tr>\n",
       "    <tr>\n",
       "      <td>33932</td>\n",
       "      <td>flower.jini</td>\n",
       "      <td>other</td>\n",
       "      <td>27093.0</td>\n",
       "      <td>1599.0</td>\n",
       "      <td>664.0</td>\n",
       "    </tr>\n",
       "    <tr>\n",
       "      <td>33933</td>\n",
       "      <td>ester_starling</td>\n",
       "      <td>other</td>\n",
       "      <td>20621.0</td>\n",
       "      <td>23.0</td>\n",
       "      <td>783.0</td>\n",
       "    </tr>\n",
       "    <tr>\n",
       "      <td>33934</td>\n",
       "      <td>lovely___yul</td>\n",
       "      <td>other</td>\n",
       "      <td>12381.0</td>\n",
       "      <td>811.0</td>\n",
       "      <td>223.0</td>\n",
       "    </tr>\n",
       "    <tr>\n",
       "      <td>33935</td>\n",
       "      <td>sara_agos</td>\n",
       "      <td>other</td>\n",
       "      <td>1277.0</td>\n",
       "      <td>790.0</td>\n",
       "      <td>311.0</td>\n",
       "    </tr>\n",
       "  </tbody>\n",
       "</table>\n",
       "<p>33935 rows × 5 columns</p>\n",
       "</div>"
      ],
      "text/plain": [
       "                Username Category  #Followers  #Followees  #Posts\n",
       "1            makeupbynvs   beauty      1432.0      1089.0   363.0\n",
       "2      jaquelinevandoski   beauty    137600.0       548.0   569.0\n",
       "3          anisaartistry   beauty     64644.0       289.0   391.0\n",
       "4      rubina_muartistry   beauty    496406.0       742.0   887.0\n",
       "5            beautyxabbi   beauty      2050.0      1423.0   751.0\n",
       "...                  ...      ...         ...         ...     ...\n",
       "33931         alingzhang    other      4597.0       881.0   365.0\n",
       "33932        flower.jini    other     27093.0      1599.0   664.0\n",
       "33933     ester_starling    other     20621.0        23.0   783.0\n",
       "33934       lovely___yul    other     12381.0       811.0   223.0\n",
       "33935          sara_agos    other      1277.0       790.0   311.0\n",
       "\n",
       "[33935 rows x 5 columns]"
      ]
     },
     "execution_count": 2,
     "metadata": {},
     "output_type": "execute_result"
    }
   ],
   "source": [
    "df = pd.read_csv('data.csv', delimiter = '\\t')\n",
    "df = df.iloc[1:]\n",
    "df"
   ]
  },
  {
   "cell_type": "code",
   "execution_count": 3,
   "metadata": {},
   "outputs": [
    {
     "data": {
      "text/plain": [
       "array(['beauty', 'family', 'fashion', 'fasion', 'fashion 0.5', 'fitness',\n",
       "       'food', 'interior', 'pet', 'travel', 'other'], dtype=object)"
      ]
     },
     "execution_count": 3,
     "metadata": {},
     "output_type": "execute_result"
    }
   ],
   "source": [
    "df.Category.unique()"
   ]
  },
  {
   "cell_type": "code",
   "execution_count": 4,
   "metadata": {},
   "outputs": [],
   "source": [
    "df.loc[df['Category'] == 'fasion', 'Category'] = 'fashion'\n",
    "df.loc[df['Category'] == 'fashion 0.5', 'Category'] = 'fashion'"
   ]
  },
  {
   "cell_type": "code",
   "execution_count": 5,
   "metadata": {},
   "outputs": [
    {
     "data": {
      "text/plain": [
       "array(['beauty', 'family', 'fashion', 'fitness', 'food', 'interior',\n",
       "       'pet', 'travel', 'other'], dtype=object)"
      ]
     },
     "execution_count": 5,
     "metadata": {},
     "output_type": "execute_result"
    }
   ],
   "source": [
    "df.Category.unique()"
   ]
  },
  {
   "cell_type": "code",
   "execution_count": 6,
   "metadata": {},
   "outputs": [],
   "source": [
    "beautyUN=list(df['Username'][df['Category'] == 'beauty'])\n",
    "familyUN=list(df['Username'][df['Category'] == 'family'])\n",
    "fashionUN=list(df['Username'][df['Category'] == 'fashion'])\n",
    "fitnessUN=list(df['Username'][df['Category'] == 'fitness'])\n",
    "foodUN=list(df['Username'][df['Category'] == 'food'])\n",
    "interiorUN=list(df['Username'][df['Category'] == 'interior'])\n",
    "petUN=list(df['Username'][df['Category'] == 'pet'])\n",
    "travelUN=list(df['Username'][df['Category'] == 'travel'])\n",
    "otherUN=list(df['Username'][df['Category'] == 'other'])"
   ]
  },
  {
   "cell_type": "code",
   "execution_count": null,
   "metadata": {},
   "outputs": [],
   "source": []
  }
 ],
 "metadata": {
  "kernelspec": {
   "display_name": "Python 3",
   "language": "python",
   "name": "python3"
  },
  "language_info": {
   "codemirror_mode": {
    "name": "ipython",
    "version": 3
   },
   "file_extension": ".py",
   "mimetype": "text/x-python",
   "name": "python",
   "nbconvert_exporter": "python",
   "pygments_lexer": "ipython3",
   "version": "3.7.4"
  }
 },
 "nbformat": 4,
 "nbformat_minor": 2
}
